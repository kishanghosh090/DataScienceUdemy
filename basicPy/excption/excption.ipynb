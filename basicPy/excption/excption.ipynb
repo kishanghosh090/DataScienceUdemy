{
 "cells": [
  {
   "cell_type": "code",
   "execution_count": 1,
   "id": "566cbe4a",
   "metadata": {},
   "outputs": [
    {
     "name": "stdout",
     "output_type": "stream",
     "text": [
      "Variable a is not defined\n"
     ]
    }
   ],
   "source": [
    "\n",
    "\n",
    "try:\n",
    "    a = b\n",
    "except NameError:\n",
    "    print(\"Variable a is not defined\")    "
   ]
  },
  {
   "cell_type": "code",
   "execution_count": 7,
   "id": "a889d4d2",
   "metadata": {},
   "outputs": [
    {
     "name": "stdout",
     "output_type": "stream",
     "text": [
      "None\n"
     ]
    },
    {
     "data": {
      "text/plain": [
       "[545, 23, 1]"
      ]
     },
     "execution_count": 7,
     "metadata": {},
     "output_type": "execute_result"
    }
   ],
   "source": [
    "a = [23,545,1]\n",
    "print(a.sort(reverse=True))\n",
    "a"
   ]
  },
  {
   "cell_type": "code",
   "execution_count": 9,
   "id": "db2ce323",
   "metadata": {},
   "outputs": [
    {
     "data": {
      "text/plain": [
       "['k', 'i', 's', 'h']"
      ]
     },
     "execution_count": 9,
     "metadata": {},
     "output_type": "execute_result"
    }
   ],
   "source": [
    "a = \"kishjan\"\n",
    "list(a[0:4])"
   ]
  },
  {
   "cell_type": "code",
   "execution_count": 5,
   "id": "a22dfc35",
   "metadata": {},
   "outputs": [
    {
     "name": "stdout",
     "output_type": "stream",
     "text": [
      "Variable a is not defined\n",
      "I will always run\n"
     ]
    }
   ],
   "source": [
    "try:\n",
    "    a = b\n",
    "except Exception:\n",
    "    print(\"Variable a is not defined\")    \n",
    "except NameError:\n",
    "    print(\"Variable b is not defined\")\n",
    "finally:\n",
    "    print(\"I will always run\")    \n"
   ]
  },
  {
   "cell_type": "code",
   "execution_count": null,
   "id": "db750481",
   "metadata": {},
   "outputs": [
    {
     "name": "stdout",
     "output_type": "stream",
     "text": [
      "364\n",
      "No exception occurred.\n",
      "Execution completed.\n"
     ]
    }
   ],
   "source": [
    "try:\n",
    "    num = int(input(\"Enter a number: \"))\n",
    "    print(num.__sizeof__())\n",
    "except ValueError:\n",
    "    print(\"Invalid input. Please enter a valid number.\")\n",
    "except Exception as e:\n",
    "    print(\"An error occurred:\", str(e))\n",
    "else:\n",
    "    print(\"No exception occurred.\")\n",
    "finally:\n",
    "    print(\"Execution completed.\")"
   ]
  }
 ],
 "metadata": {
  "kernelspec": {
   "display_name": "venv1",
   "language": "python",
   "name": "python3"
  },
  "language_info": {
   "codemirror_mode": {
    "name": "ipython",
    "version": 3
   },
   "file_extension": ".py",
   "mimetype": "text/x-python",
   "name": "python",
   "nbconvert_exporter": "python",
   "pygments_lexer": "ipython3",
   "version": "3.10.0"
  }
 },
 "nbformat": 4,
 "nbformat_minor": 5
}
