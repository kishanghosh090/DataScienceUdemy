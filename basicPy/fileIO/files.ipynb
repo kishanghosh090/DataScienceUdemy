{
 "cells": [
  {
   "cell_type": "code",
   "execution_count": 9,
   "id": "494dee54",
   "metadata": {},
   "outputs": [
    {
     "name": "stdout",
     "output_type": "stream",
     "text": [
      "<class 'str'>\n"
     ]
    }
   ],
   "source": [
    "with open('kishan.csv','r') as file:\n",
    "    content = file.read()\n",
    "    print(type(content))\n",
    "    file.close()"
   ]
  },
  {
   "cell_type": "code",
   "execution_count": null,
   "id": "75207811",
   "metadata": {},
   "outputs": [],
   "source": [
    "# with open('statement_sample1.pdf','r') as file:\n",
    "#     content = file.read(1000)\n",
    "#     print(type(content))\n",
    "#     file.close()"
   ]
  },
  {
   "cell_type": "code",
   "execution_count": 19,
   "id": "10109d72",
   "metadata": {},
   "outputs": [
    {
     "name": "stdout",
     "output_type": "stream",
     "text": [
      "\"Name\",\"Age\",\"Address\",\"Contact\"\n",
      "\"John\",\"22\",\"New York\",\"1234567890\"\n",
      "\"Mike\",\"25\",\"Los Angeles\",\"9876543210\"\n",
      "\"Emma\",\"24\",\"Chicago\",\"5551234567\"\n"
     ]
    }
   ],
   "source": [
    "## read file line by line\n",
    "with open('kishan.csv','r') as file:\n",
    "    for line in file:\n",
    "        print(line,end='')\n",
    "    file.close()"
   ]
  },
  {
   "cell_type": "code",
   "execution_count": 21,
   "id": "f878ec40",
   "metadata": {},
   "outputs": [],
   "source": [
    "with open('kishan.csv','a') as file:\n",
    "    file.write('this is kishan rana ghosh with chai alychi tea')\n",
    "    file.close()"
   ]
  },
  {
   "cell_type": "code",
   "execution_count": 22,
   "id": "5d6ee89d",
   "metadata": {},
   "outputs": [],
   "source": [
    "data = b'\\x00\\x01\\x02\\x03\\x04\\x05\\x06\\x07\\x08\\x09\\x0a\\x0b\\x0c\\x0d\\x0e\\x0f'\n",
    "with open('ex.bin','wb') as file:\n",
    "    file.write(data)\n",
    "    file.close()"
   ]
  },
  {
   "cell_type": "code",
   "execution_count": 24,
   "id": "9b3be742",
   "metadata": {},
   "outputs": [
    {
     "name": "stdout",
     "output_type": "stream",
     "text": [
      "b'\\x00\\x01\\x02\\x03\\x04\\x05\\x06\\x07\\x08\\t\\n\\x0b\\x0c\\r\\x0e\\x0f'\n"
     ]
    }
   ],
   "source": [
    "with open('ex.bin','rb') as file:\n",
    "    print(file.read())\n",
    "    file.close()"
   ]
  },
  {
   "cell_type": "code",
   "execution_count": null,
   "id": "ad40e933",
   "metadata": {},
   "outputs": [
    {
     "name": "stdout",
     "output_type": "stream",
     "text": [
      "this is kishan rana ghosh with chai alychi tea\n"
     ]
    }
   ],
   "source": [
    "with open('kishan.csv','w+') as file:\n",
    "    file.write('this is kishan rana ghosh with chai alychi tea')\n",
    "    file.seek(0) # move the file cursor to the start at index 0\n",
    "    print(file.read())\n",
    "    file.close()"
   ]
  }
 ],
 "metadata": {
  "kernelspec": {
   "display_name": "venv1",
   "language": "python",
   "name": "python3"
  },
  "language_info": {
   "codemirror_mode": {
    "name": "ipython",
    "version": 3
   },
   "file_extension": ".py",
   "mimetype": "text/x-python",
   "name": "python",
   "nbconvert_exporter": "python",
   "pygments_lexer": "ipython3",
   "version": "3.10.0"
  }
 },
 "nbformat": 4,
 "nbformat_minor": 5
}
