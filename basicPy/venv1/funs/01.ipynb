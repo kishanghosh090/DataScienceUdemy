{
 "cells": [
  {
   "cell_type": "code",
   "execution_count": null,
   "id": "44092b49",
   "metadata": {},
   "outputs": [
    {
     "name": "stdout",
     "output_type": "stream",
     "text": [
      "name\n",
      "hello kishan\n"
     ]
    }
   ],
   "source": [
    "lst = [\"name\",1,2,3,4,7,5]\n",
    "name,*rest = lst\n",
    "print(name)\n",
    "\n",
    "def fun_name(par):\n",
    "    return \"hello \" + par\n",
    "\n",
    "print(fun_name(\"kishan\"))"
   ]
  },
  {
   "cell_type": "code",
   "execution_count": 2,
   "id": "f8619465",
   "metadata": {},
   "outputs": [
    {
     "name": "stdout",
     "output_type": "stream",
     "text": [
      "odd\n",
      "even\n",
      "odd\n",
      "even\n",
      "odd\n",
      "even\n",
      "odd\n",
      "even\n",
      "odd\n",
      "even\n"
     ]
    }
   ],
   "source": [
    "def even_or_odd(num):\n",
    "    if num % 2 == 0:\n",
    "        return \"even\"\n",
    "    else:\n",
    "        return \"odd\"\n",
    "    \n",
    "print(even_or_odd(1))\n",
    "print(even_or_odd(2))\n",
    "print(even_or_odd(3))\n",
    "print(even_or_odd(4))\n",
    "print(even_or_odd(5))\n",
    "print(even_or_odd(6))\n",
    "print(even_or_odd(7))\n",
    "print(even_or_odd(8))\n",
    "print(even_or_odd(9))\n",
    "print(even_or_odd(10))"
   ]
  },
  {
   "cell_type": "code",
   "execution_count": null,
   "id": "6395c395",
   "metadata": {},
   "outputs": [
    {
     "name": "stdout",
     "output_type": "stream",
     "text": [
      "hello kishan\n"
     ]
    }
   ],
   "source": [
    "def def_params(name=\"kishan\"):\n",
    "    return \"hello \" + name\n",
    "\n",
    "print(def_params())"
   ]
  },
  {
   "cell_type": "code",
   "execution_count": 6,
   "id": "39625ada",
   "metadata": {},
   "outputs": [
    {
     "name": "stdout",
     "output_type": "stream",
     "text": [
      "<class 'tuple'>\n",
      "1\n",
      "2\n",
      "3\n"
     ]
    }
   ],
   "source": [
    "def print_number(*args):\n",
    "    print(type (args))\n",
    "    for i in args:\n",
    "        print(i)\n",
    "\n",
    "print_number(1,2,3)   \n",
    "# print_number()     "
   ]
  },
  {
   "cell_type": "code",
   "execution_count": 7,
   "id": "3ce346e2",
   "metadata": {},
   "outputs": [
    {
     "name": "stdout",
     "output_type": "stream",
     "text": [
      "<class 'dict'>\n",
      "name kishan\n",
      "age 20\n"
     ]
    }
   ],
   "source": [
    "## keyword arguments\n",
    "\n",
    "def print_number(**kwargs):\n",
    "    print(type (kwargs))\n",
    "    for i in kwargs:\n",
    "        print(i,kwargs[i])\n",
    "\n",
    "print_number(name=\"kishan\",age=20)"
   ]
  },
  {
   "cell_type": "code",
   "execution_count": 9,
   "id": "3b5c29ff",
   "metadata": {},
   "outputs": [
    {
     "name": "stdout",
     "output_type": "stream",
     "text": [
      "15\n",
      "15\n"
     ]
    }
   ],
   "source": [
    "# lamda fun\n",
    "\n",
    "x = lambda a : a + 10\n",
    "print(x(5))\n",
    "\n",
    "y = lambda *args: sum(args)\n",
    "print(y(1,2,3,4,5))"
   ]
  },
  {
   "cell_type": "code",
   "execution_count": 10,
   "id": "7633aafe",
   "metadata": {},
   "outputs": [
    {
     "name": "stdout",
     "output_type": "stream",
     "text": [
      "False\n",
      "True\n",
      "False\n",
      "True\n",
      "False\n",
      "True\n",
      "False\n",
      "True\n",
      "False\n",
      "True\n"
     ]
    }
   ],
   "source": [
    "def even(num):\n",
    "    return num % 2 == 0\n",
    "\n",
    "\n",
    "\n",
    "isEven = lambda num : num % 2 == 0\n",
    "\n",
    "print(isEven(1))\n",
    "print(isEven(2))\n",
    "print(isEven(3))\n",
    "print(isEven(4))\n",
    "print(isEven(5))\n",
    "print(isEven(6))\n",
    "print(isEven(7))\n",
    "print(isEven(8))\n",
    "print(isEven(9))\n",
    "print(isEven(10))"
   ]
  },
  {
   "cell_type": "code",
   "execution_count": null,
   "id": "b1abc372",
   "metadata": {},
   "outputs": [],
   "source": []
  }
 ],
 "metadata": {
  "kernelspec": {
   "display_name": "venv1",
   "language": "python",
   "name": "python3"
  },
  "language_info": {
   "codemirror_mode": {
    "name": "ipython",
    "version": 3
   },
   "file_extension": ".py",
   "mimetype": "text/x-python",
   "name": "python",
   "nbconvert_exporter": "python",
   "pygments_lexer": "ipython3",
   "version": "3.10.0"
  }
 },
 "nbformat": 4,
 "nbformat_minor": 5
}
