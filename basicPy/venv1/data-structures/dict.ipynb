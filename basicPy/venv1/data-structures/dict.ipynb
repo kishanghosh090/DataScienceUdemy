{
 "cells": [
  {
   "cell_type": "code",
   "execution_count": 9,
   "id": "a79a63b9",
   "metadata": {},
   "outputs": [
    {
     "name": "stdout",
     "output_type": "stream",
     "text": [
      "{'alychi tea': 1, 'chai latte': 4}\n"
     ]
    }
   ],
   "source": [
    "chai_lst = [\"alychi tea\", \"chai latte\", \"chai latte\", \"chai latte\", \"chai latte\"]\n",
    "chai_dict = {}\n",
    "for chai in chai_lst:\n",
    "    if chai in chai_dict:\n",
    "        chai_dict[chai] += 1\n",
    "    else:\n",
    "        chai_dict[chai] = 1\n",
    "print(chai_dict)"
   ]
  }
 ],
 "metadata": {
  "kernelspec": {
   "display_name": "venv1",
   "language": "python",
   "name": "python3"
  },
  "language_info": {
   "codemirror_mode": {
    "name": "ipython",
    "version": 3
   },
   "file_extension": ".py",
   "mimetype": "text/x-python",
   "name": "python",
   "nbconvert_exporter": "python",
   "pygments_lexer": "ipython3",
   "version": "3.10.0"
  }
 },
 "nbformat": 4,
 "nbformat_minor": 5
}
