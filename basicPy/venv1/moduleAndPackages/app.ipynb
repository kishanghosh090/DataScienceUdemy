{
 "cells": [
  {
   "cell_type": "code",
   "execution_count": 3,
   "id": "8af67095",
   "metadata": {},
   "outputs": [
    {
     "data": {
      "text/plain": [
       "2"
      ]
     },
     "execution_count": 3,
     "metadata": {},
     "output_type": "execute_result"
    }
   ],
   "source": [
    "import math\n",
    "int(math.sqrt(4))"
   ]
  },
  {
   "cell_type": "code",
   "execution_count": null,
   "id": "4890e5e6",
   "metadata": {},
   "outputs": [],
   "source": [
    "from math import sqrt,pi\n",
    "int(sqrt(4))\n"
   ]
  },
  {
   "cell_type": "code",
   "execution_count": 7,
   "id": "2c229e5e",
   "metadata": {},
   "outputs": [
    {
     "data": {
      "text/plain": [
       "np.float64(2.0)"
      ]
     },
     "execution_count": 7,
     "metadata": {},
     "output_type": "execute_result"
    }
   ],
   "source": [
    "import numpy as np\n",
    "np.sqrt(4)"
   ]
  },
  {
   "cell_type": "code",
   "execution_count": null,
   "id": "7d55345f",
   "metadata": {},
   "outputs": [],
   "source": [
    "from math import * # import all fun from math\n"
   ]
  },
  {
   "cell_type": "code",
   "execution_count": 9,
   "id": "a132c20d",
   "metadata": {},
   "outputs": [
    {
     "data": {
      "text/plain": [
       "5"
      ]
     },
     "execution_count": 9,
     "metadata": {},
     "output_type": "execute_result"
    }
   ],
   "source": [
    "from package.maths import add\n",
    "add(2,3)"
   ]
  },
  {
   "cell_type": "code",
   "execution_count": null,
   "id": "cb1afeeb",
   "metadata": {},
   "outputs": [
    {
     "name": "stdout",
     "output_type": "stream",
     "text": [
      "-1\n"
     ]
    }
   ],
   "source": [
    "from package import maths as m\n",
    "m.add(2,3)\n",
    "print(m.subtract(2,3))\n"
   ]
  }
 ],
 "metadata": {
  "kernelspec": {
   "display_name": "venv1",
   "language": "python",
   "name": "python3"
  },
  "language_info": {
   "codemirror_mode": {
    "name": "ipython",
    "version": 3
   },
   "file_extension": ".py",
   "mimetype": "text/x-python",
   "name": "python",
   "nbconvert_exporter": "python",
   "pygments_lexer": "ipython3",
   "version": "3.10.0"
  }
 },
 "nbformat": 4,
 "nbformat_minor": 5
}
