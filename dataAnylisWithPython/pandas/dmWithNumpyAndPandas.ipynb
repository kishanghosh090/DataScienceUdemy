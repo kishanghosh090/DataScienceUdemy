{
 "cells": [
  {
   "cell_type": "code",
   "execution_count": 1,
   "id": "9ef05466",
   "metadata": {},
   "outputs": [],
   "source": [
    "import pandas as pd"
   ]
  },
  {
   "cell_type": "code",
   "execution_count": 2,
   "id": "67c48084",
   "metadata": {},
   "outputs": [
    {
     "name": "stdout",
     "output_type": "stream",
     "text": [
      "     StudentID         Name  Age Gender        Department  Math  Physics  \\\n",
      "0         1001     Student1   24      M  Computer Science    60       46   \n",
      "1         1002     Student2   21      F           Biology    52       43   \n",
      "2         1003     Student3   22      M  Computer Science    60       76   \n",
      "3         1004     Student4   24      M  Computer Science    47       95   \n",
      "4         1005     Student5   20      M  Computer Science    85       40   \n",
      "..         ...          ...  ...    ...               ...   ...      ...   \n",
      "995       1996   Student996   23      F       Mathematics    78       75   \n",
      "996       1997   Student997   18      F  Computer Science    73       86   \n",
      "997       1998   Student998   24      M         Chemistry    95       80   \n",
      "998       1999   Student999   21      M  Computer Science    67       44   \n",
      "999       2000  Student1000   23      F       Mathematics    76       52   \n",
      "\n",
      "     Chemistry  Attendance       City  \n",
      "0           62          84      Delhi  \n",
      "1           97          69     Mumbai  \n",
      "2           89          81      Delhi  \n",
      "3           69          78      Delhi  \n",
      "4           76          60     Mumbai  \n",
      "..         ...         ...        ...  \n",
      "995         83          97     Mumbai  \n",
      "996         44          82    Kolkata  \n",
      "997         62          84  Bangalore  \n",
      "998         80          66     Mumbai  \n",
      "999         98          81    Kolkata  \n",
      "\n",
      "[1000 rows x 10 columns]\n"
     ]
    }
   ],
   "source": [
    "df = pd.read_csv('student.csv')\n",
    "print(df)"
   ]
  }
 ],
 "metadata": {
  "kernelspec": {
   "display_name": ".env",
   "language": "python",
   "name": "python3"
  },
  "language_info": {
   "codemirror_mode": {
    "name": "ipython",
    "version": 3
   },
   "file_extension": ".py",
   "mimetype": "text/x-python",
   "name": "python",
   "nbconvert_exporter": "python",
   "pygments_lexer": "ipython3",
   "version": "3.10.0"
  }
 },
 "nbformat": 4,
 "nbformat_minor": 5
}
