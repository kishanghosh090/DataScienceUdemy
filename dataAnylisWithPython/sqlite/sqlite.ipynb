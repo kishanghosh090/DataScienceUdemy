{
 "cells": [
  {
   "cell_type": "code",
   "execution_count": 2,
   "id": "e8b6de61",
   "metadata": {},
   "outputs": [],
   "source": [
    "import sqlite3"
   ]
  },
  {
   "cell_type": "code",
   "execution_count": 3,
   "id": "a4b07340",
   "metadata": {},
   "outputs": [
    {
     "data": {
      "text/plain": [
       "<sqlite3.Connection at 0x7f126c3b2340>"
      ]
     },
     "execution_count": 3,
     "metadata": {},
     "output_type": "execute_result"
    }
   ],
   "source": [
    "conn = sqlite3.connect('test.db')\n",
    "conn"
   ]
  },
  {
   "cell_type": "code",
   "execution_count": 7,
   "id": "68a12f81",
   "metadata": {},
   "outputs": [],
   "source": [
    "curser = conn.cursor()\n",
    "curser.execute('''\n",
    "Create table user(\n",
    "    id integer primary key,\n",
    "    name text not null,\n",
    "    email text not null unique,\n",
    "    password text not null\n",
    ")\n",
    "''')\n",
    "## commit the changes\n",
    "conn.commit()"
   ]
  },
  {
   "cell_type": "code",
   "execution_count": null,
   "id": "f393ad2f",
   "metadata": {},
   "outputs": [],
   "source": [
    "conn.execute('''\n",
    "insert into user (name,email,password) values('kiran','kiran@k.com','1234')\n",
    "''')\n",
    "conn.commit()\n"
   ]
  },
  {
   "cell_type": "code",
   "execution_count": 9,
   "id": "c1951d72",
   "metadata": {},
   "outputs": [],
   "source": [
    "conn.execute('''\n",
    "insert into user (name,email,password) values('kiran1','kiran1@k.com','1234')\n",
    "''')\n",
    "conn.commit()"
   ]
  },
  {
   "cell_type": "code",
   "execution_count": 14,
   "id": "3eedf042",
   "metadata": {},
   "outputs": [
    {
     "data": {
      "text/plain": [
       "[(1, 'kiran', 'kiran@k.com', '1234'), (2, 'kiran1', 'kiran1@k.com', '1234')]"
      ]
     },
     "execution_count": 14,
     "metadata": {},
     "output_type": "execute_result"
    }
   ],
   "source": [
    "conn.execute('''\n",
    "select * from user\n",
    "''').fetchall()"
   ]
  },
  {
   "cell_type": "code",
   "execution_count": 15,
   "id": "4796a3c0",
   "metadata": {},
   "outputs": [
    {
     "data": {
      "text/plain": [
       "[(1, 'kiran2', 'kiran@k.com', '1234'), (2, 'kiran1', 'kiran1@k.com', '1234')]"
      ]
     },
     "execution_count": 15,
     "metadata": {},
     "output_type": "execute_result"
    }
   ],
   "source": [
    "## update the data\n",
    "\n",
    "conn.execute('''\n",
    "update user set name='kiran2' where id=1\n",
    "''')\n",
    "conn.commit()\n",
    "conn.execute('''\n",
    "select * from user\n",
    "''').fetchall()"
   ]
  },
  {
   "cell_type": "code",
   "execution_count": 16,
   "id": "0ab6b146",
   "metadata": {},
   "outputs": [
    {
     "data": {
      "text/plain": [
       "[(2, 'kiran1', 'kiran1@k.com', '1234')]"
      ]
     },
     "execution_count": 16,
     "metadata": {},
     "output_type": "execute_result"
    }
   ],
   "source": [
    "## delete the data\n",
    "\n",
    "conn.execute('''\n",
    "delete from user where id=1\n",
    "''')\n",
    "conn.commit()\n",
    "conn.execute('''\n",
    "select * from user\n",
    "''').fetchall()"
   ]
  }
 ],
 "metadata": {
  "kernelspec": {
   "display_name": ".env",
   "language": "python",
   "name": "python3"
  },
  "language_info": {
   "codemirror_mode": {
    "name": "ipython",
    "version": 3
   },
   "file_extension": ".py",
   "mimetype": "text/x-python",
   "name": "python",
   "nbconvert_exporter": "python",
   "pygments_lexer": "ipython3",
   "version": "3.10.0"
  }
 },
 "nbformat": 4,
 "nbformat_minor": 5
}
